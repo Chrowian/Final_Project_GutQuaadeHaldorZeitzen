{
 "cells": [
  {
   "cell_type": "code",
   "execution_count": 15,
   "metadata": {},
   "outputs": [],
   "source": [
    "#from wordstonumbers import sentence_to_integer_sequence\n",
    "import get_data as gd\n",
    "import wordstonumbers as wtn\n",
    "import torch\n",
    "device = \"cuda\" if torch.cuda.is_available() else \"cpu\"\n",
    "import preprocessing_space as ps"
   ]
  },
  {
   "cell_type": "code",
   "execution_count": 16,
   "metadata": {},
   "outputs": [
    {
     "name": "stdout",
     "output_type": "stream",
     "text": [
      "X shape:  (71576,)\n",
      "y shape:  (71576,)\n",
      "X shape:  (72095,)\n",
      "y shape:  (72095,)\n"
     ]
    }
   ],
   "source": [
    "#x = [' I like apples ' ' I love bananas ' ' I like bananas ']\n",
    "X_title, y = gd.get_title_data()\n",
    "X_text, y = gd.get_text_data()"
   ]
  },
  {
   "cell_type": "code",
   "execution_count": 17,
   "metadata": {},
   "outputs": [],
   "source": [
    "vocab = wtn.get_vocab(X_text)"
   ]
  },
  {
   "cell_type": "code",
   "execution_count": 13,
   "metadata": {},
   "outputs": [
    {
     "data": {
      "text/plain": [
       "tensor([ 1499,   580,     1,  6017,     0, 15335])"
      ]
     },
     "execution_count": 13,
     "metadata": {},
     "output_type": "execute_result"
    }
   ],
   "source": [
    "wtn.sentence_to_integer_sequence(('please leave the reply To me!'), vocab)"
   ]
  },
  {
   "cell_type": "code",
   "execution_count": 14,
   "metadata": {},
   "outputs": [
    {
     "data": {
      "text/plain": [
       "tensor([[ 0.0000,  0.0000,  0.0000,  0.0000,  0.0000,  0.0000,  0.0000,  0.0000,\n",
       "          0.0000,  0.0000,  0.0000,  0.0000,  0.0000,  0.0000,  0.0000,  0.0000,\n",
       "          0.0000,  0.0000,  0.0000,  0.0000,  0.0000,  0.0000,  0.0000,  0.0000,\n",
       "          0.0000,  0.0000,  0.0000,  0.0000,  0.0000,  0.0000,  0.0000,  0.0000,\n",
       "          0.0000,  0.0000,  0.0000,  0.0000,  0.0000,  0.0000,  0.0000,  0.0000,\n",
       "          0.0000,  0.0000,  0.0000,  0.0000,  0.0000,  0.0000,  0.0000,  0.0000,\n",
       "          0.0000,  0.0000],\n",
       "        [ 1.7321, -1.3973,  0.7118, -0.9473, -1.7354, -0.4758,  1.7609,  1.5753,\n",
       "          0.7009, -0.6368,  0.8005,  0.1495, -1.2657, -0.9563, -0.4723,  0.7327,\n",
       "          0.0903, -0.1531,  0.0342,  0.0895,  0.1636, -1.0814,  0.7210, -0.5209,\n",
       "         -1.5681, -0.9670,  0.8253, -0.1641, -0.4069, -0.2171,  0.2996,  0.6253,\n",
       "         -0.0172, -0.2857, -1.6181,  0.0442,  0.9584, -1.5145, -0.0745, -1.9058,\n",
       "          0.6222, -0.4754,  0.8823, -0.3718, -0.0833,  1.0032,  1.9735,  0.6982,\n",
       "         -1.1823, -0.0385],\n",
       "        [ 1.6486, -2.2493,  2.4067, -0.3817,  0.4634, -0.5544,  0.4272,  1.8229,\n",
       "         -0.1644,  0.2304, -0.2981,  0.8576, -0.9118, -1.0156, -0.0900,  1.0189,\n",
       "          1.2986, -0.9676,  1.9949, -1.2116, -2.2818, -0.3491,  0.5399, -0.2065,\n",
       "         -0.6656,  0.0787,  0.7183,  1.4571,  0.0287,  0.3418,  1.2371, -0.6729,\n",
       "          0.1625, -0.2440,  1.3231,  0.3250, -1.0425,  1.0818,  1.2567,  0.3237,\n",
       "         -0.3966, -0.3633, -0.2451,  0.3127, -0.3404,  0.8377,  0.5322,  2.0423,\n",
       "         -0.7054, -0.3047],\n",
       "        [-0.3716,  1.0664, -0.9922,  0.7216, -0.0574, -1.3333, -0.7066, -1.1800,\n",
       "          0.0108, -0.6398,  1.1354, -0.2054, -1.5777, -0.5584,  1.0592, -0.4092,\n",
       "          0.4700,  0.5284, -0.2354,  0.5262,  0.6309,  0.4939,  1.2835, -0.1467,\n",
       "          0.6501, -0.9859, -1.1395,  0.0128, -0.8954,  0.0461,  0.1794, -1.0103,\n",
       "         -0.5281,  0.9473, -0.8846,  1.3516,  0.3855, -0.9108,  0.4220,  0.4325,\n",
       "          1.1066, -0.7156,  0.2741, -0.5422, -0.2459,  0.6492,  0.8662,  0.4000,\n",
       "         -1.4353, -1.0006],\n",
       "        [ 0.0000,  0.0000,  0.0000,  0.0000,  0.0000,  0.0000,  0.0000,  0.0000,\n",
       "          0.0000,  0.0000,  0.0000,  0.0000,  0.0000,  0.0000,  0.0000,  0.0000,\n",
       "          0.0000,  0.0000,  0.0000,  0.0000,  0.0000,  0.0000,  0.0000,  0.0000,\n",
       "          0.0000,  0.0000,  0.0000,  0.0000,  0.0000,  0.0000,  0.0000,  0.0000,\n",
       "          0.0000,  0.0000,  0.0000,  0.0000,  0.0000,  0.0000,  0.0000,  0.0000,\n",
       "          0.0000,  0.0000,  0.0000,  0.0000,  0.0000,  0.0000,  0.0000,  0.0000,\n",
       "          0.0000,  0.0000],\n",
       "        [ 0.0432,  0.7494, -0.7448,  0.9321,  0.8672, -1.9583,  0.1543, -0.3130,\n",
       "          0.7658,  0.1658,  0.0552,  0.7453,  0.3159,  1.3795,  0.1093,  0.5217,\n",
       "         -0.6363, -1.2091,  0.4312, -1.6382,  0.1408,  1.2963,  0.5070,  0.7004,\n",
       "          0.7511,  0.6016, -0.1922,  0.1108,  2.2086,  0.5331,  1.0854, -1.3947,\n",
       "          0.1315,  0.3223,  0.5385,  0.6922,  1.4444, -0.3760, -1.7745,  0.1846,\n",
       "          0.9806, -0.9802, -0.0372,  0.4735, -0.3544, -0.0847,  0.9743,  1.8177,\n",
       "         -0.3455, -0.0966]], grad_fn=<EmbeddingBackward0>)"
      ]
     },
     "execution_count": 14,
     "metadata": {},
     "output_type": "execute_result"
    }
   ],
   "source": [
    "wtn.sentence_to_tensor(('Please leave the reply To me!'), vocab)"
   ]
  },
  {
   "cell_type": "code",
   "execution_count": 20,
   "metadata": {},
   "outputs": [
    {
     "name": "stderr",
     "output_type": "stream",
     "text": [
      "c:\\Users\\marcu\\OneDrive\\Dokumenter\\GitHub\\Final_Project_GutQuaadeHaldorZeitzen\\preprocessing_space.py:11: FutureWarning: The default value of regex will change from True to False in a future version.\n",
      "  dataframe = dataframe.str.replace(special_chars, r' \\1 ')\n"
     ]
    }
   ],
   "source": [
    "X_text = ps.preprocess_space(X_text)"
   ]
  },
  {
   "cell_type": "code",
   "execution_count": 22,
   "metadata": {},
   "outputs": [
    {
     "data": {
      "text/plain": [
       "'No comment is expected from Barack Obama Members of the  # FYF911 or  # FukYoFlag and  # BlackLivesMatter movements called for the lynching and hanging of white people and cops .  They encouraged others on a radio show Tuesday night to  turn the tide  and kill white people and cops to send a message about the killing of black people in America . One of the F *  *  * YoFlag organizers is called  Sunshine .   She has a radio blog show hosted from Texas called ,   Sunshine s F *  *  * ing Opinion Radio Show .  A snapshot of her  # FYF911  @ LOLatWhiteFear Twitter page at 9 : 53 p . m .  shows that she was urging supporters to  Call now !  !   # fyf911 tonight we continue to dismantle the illusion of white Below is a SNAPSHOT Twitter Radio Call Invite    # FYF911The radio show aired at 10 : 00 p . m .  eastern standard time . During the show ,  callers clearly call for  lynching  and  killing  of white people . A 2 : 39 minute clip from the radio show can be heard here .  It was provided to Breitbart Texas by someone who would like to be referred to as  Hannibal .   He has already received death threats as a result of interrupting  # FYF911 conference calls . An unidentified black man said  when those mother f *  * kers are by themselves ,  that s when when we should start f *  *  * ing them up .  Like they do us ,  when a bunch of them ni *  * ers takin  one of us out ,  that s how we should roll up .   He said ,   Cause we already roll up in gangs anyway .  There should be six or seven black mother f *  * ckers ,  see that white person ,  and then lynch their ass .  Let s turn the tables .  They conspired that if  cops started losing people ,   then  there will be a state of emergency .  He speculated that one of two things would happen ,   a big - ass [R s ?  ?  ?  ?  ? ] war ,   or  ni *  * ers ,  they are going to start backin  up .  We are already getting killed out here so what the f *  * k we got to lose ?  Sunshine could be heard saying ,   Yep ,  that s true .  That s so f *  * king true .  He said ,   We need to turn the tables on them .  Our kids are getting shot out here .  Somebody needs to become a sacrifice on their side . He said ,   Everybody ain t down for that s *  * t ,  or whatever ,  but like I say ,  everybody has a different position of war .   He continued ,   Because they don t give a f *  * k anyway .   He said again ,   We might as well utilized them for that s *  * t and turn the tables on these n *  * ers .  He said ,  that way  we can start lookin  like we ain t havin  that many casualties ,  and there can be more causalities on their side instead of ours .  They are out their killing black people ,  black lives don t matter ,  that s what those mother f *  * kers   so we got to make it matter to them .  Find a mother f *  * ker that is alone .  Snap his ass ,  and then f *  *  * in hang him from a damn tree .  Take a picture of it and then send it to the mother f *  * kers .  We  just need one example ,   and  then people will start watchin  .   This will turn the tables on s *  * t ,  he said .  He said this will start  a trickle - down effect .   He said that when one white person is hung and then they are just  flat - hanging ,   that will start the  trickle - down effect .   He continued ,   Black people are good at starting trends .  He said that was how  to get the upper - hand .  Another black man spoke up saying they needed to kill  cops that are killing us .  The first black male said ,   That will be the best method right there .  Breitbart Texas previously reported how Sunshine was upset when  racist white people  infiltrated and disrupted one of her conference calls .  She subsequently released the phone number of one of the infiltrators .  The veteran immediately started receiving threatening calls . One of the  # F *  *  * YoFlag movement supporters allegedly told a veteran who infiltrated their publicly posted conference call ,   We are going to rape and gut your pregnant wife ,  and your f *  *  * ing piece of sh * t unborn creature will be hung from a tree .  Breitbart Texas previously encountered Sunshine at a Sandra Bland protest at the Waller County Jail in Texas ,  where she said all white people should be killed .  She told journalists and photographers ,   You see this nappy - ass hair on my head ?    That means I am one of those more militant Negroes .   She said she was at the protest because  these redneck mother - f *  * kers murdered Sandra Bland because she had nappy hair like me .   # FYF911 black radicals say they will be holding the  imperial powers  that are actually responsible for the terrorist attacks on September 11th accountable on that day ,  as reported by Breitbart Texas .  There are several websites and Twitter handles for the movement .  Palmetto Star  describes himself as one of the head organizers .  He said in a YouTube video that supporters will be burning their symbols of  the illusion of their superiority ,   their  false white supremacy ,   like the American flag ,  the British flag ,  police uniforms ,  and Ku Klux Klan hoods . Sierra McGrone or  Nocturnus Libertus  posted ,   you too can help a young Afrikan clean their a *  *  with the rag of oppression .   She posted two photos ,  one that appears to be herself ,  and a photo of a black man ,  wiping their naked butts with the American flag . For entire story :  Breitbart News '"
      ]
     },
     "execution_count": 22,
     "metadata": {},
     "output_type": "execute_result"
    }
   ],
   "source": [
    "X_text[0]"
   ]
  },
  {
   "cell_type": "code",
   "execution_count": null,
   "metadata": {},
   "outputs": [],
   "source": []
  }
 ],
 "metadata": {
  "kernelspec": {
   "display_name": "base",
   "language": "python",
   "name": "python3"
  },
  "language_info": {
   "codemirror_mode": {
    "name": "ipython",
    "version": 3
   },
   "file_extension": ".py",
   "mimetype": "text/x-python",
   "name": "python",
   "nbconvert_exporter": "python",
   "pygments_lexer": "ipython3",
   "version": "3.7.3"
  },
  "orig_nbformat": 4
 },
 "nbformat": 4,
 "nbformat_minor": 2
}
