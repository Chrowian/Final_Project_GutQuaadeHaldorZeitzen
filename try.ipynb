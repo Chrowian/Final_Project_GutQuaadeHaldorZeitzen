{
 "cells": [
  {
   "cell_type": "code",
   "execution_count": 1,
   "metadata": {},
   "outputs": [
    {
     "name": "stderr",
     "output_type": "stream",
     "text": [
      "c:\\Users\\marcu\\Anaconda3\\lib\\site-packages\\numpy\\_distributor_init.py:32: UserWarning: loaded more than 1 DLL from .libs:\n",
      "c:\\Users\\marcu\\Anaconda3\\lib\\site-packages\\numpy\\.libs\\libopenblas.4SP5SUA7CBGXUEOC35YP2ASOICYYEQZZ.gfortran-win_amd64.dll\n",
      "c:\\Users\\marcu\\Anaconda3\\lib\\site-packages\\numpy\\.libs\\libopenblas.XWYDX2IKJW2NMTWSFYNGFUWKQU3LYTCZ.gfortran-win_amd64.dll\n",
      "  stacklevel=1)\n"
     ]
    },
    {
     "name": "stdout",
     "output_type": "stream",
     "text": [
      "X shape:  (70691, 2)\n",
      "y shape:  (70691,)\n"
     ]
    },
    {
     "name": "stderr",
     "output_type": "stream",
     "text": [
      "[nltk_data] Downloading package stopwords to\n",
      "[nltk_data]     C:\\Users\\marcu\\AppData\\Roaming\\nltk_data...\n",
      "[nltk_data]   Package stopwords is already up-to-date!\n"
     ]
    }
   ],
   "source": [
    "#from wordstonumbers import sentence_to_integer_sequence\n",
    "import get_data as gd\n",
    "import wordstonumbers as wtn\n",
    "import torch\n",
    "device = \"cuda\" if torch.cuda.is_available() else \"cpu\"\n",
    "import preprocessing_space as ps\n",
    "import lowercasetext as lct"
   ]
  },
  {
   "cell_type": "code",
   "execution_count": 2,
   "metadata": {},
   "outputs": [
    {
     "name": "stdout",
     "output_type": "stream",
     "text": [
      "X shape:  (70691,)\n",
      "y shape:  (70691,)\n"
     ]
    }
   ],
   "source": [
    "#x = [' I like apples ' ' I love bananas ' ' I like bananas ']\n",
    "#X_title, y = gd.get_title_data()\n",
    "X_text, y = gd.get_text_data()"
   ]
  },
  {
   "cell_type": "code",
   "execution_count": 3,
   "metadata": {},
   "outputs": [],
   "source": [
    "X_textlower = lct.Lowercase(X_text)\n",
    "X_text = ps.preprocess_space(X_textlower)\n",
    "X_text = ps.remove_stopwords(X_text)\n",
    "#vocab_d = wtn.get_vocab(X_text)"
   ]
  },
  {
   "cell_type": "code",
   "execution_count": 4,
   "metadata": {},
   "outputs": [
    {
     "data": {
      "text/plain": [
       "'comment expected barack obama members # fyf911 # fukyoflag # blacklivesmatter movements called lynching hanging white people cops . encouraged others radio show tuesday night turn tide kill white people cops send message killing black people america . one f * * * yoflag organizers called sunshine . radio blog show hosted texas called , sunshine f * * * ing opinion radio show . snapshot # fyf911 @ lolatwhitefear twitter page 9 : 53 p . . shows urging supporters call ! ! # fyf911 tonight continue dismantle illusion white snapshot twitter radio call invite # fyf911the radio show aired 10 : 00 p . . eastern standard time . show , callers clearly call lynching killing white people . 2 : 39 minute clip radio show heard . provided breitbart texas someone would like referred hannibal . already received death threats result interrupting # fyf911 conference calls . unidentified black man said mother f * * kers , start f * * * ing . like us , bunch ni * * ers takin one us , roll . said , cause already roll gangs anyway . six seven black mother f * * ckers , see white person , lynch ass . let turn tables . conspired cops started losing people , state emergency . speculated one two things would happen , big - ass [r ? ? ? ? ? ] war , ni * * ers , going start backin . already getting killed f * * k got lose ? sunshine could heard saying , yep , true . f * * king true . said , need turn tables . kids getting shot . somebody needs become sacrifice side . said , everybody * * , whatever , like say , everybody different position war . continued , give f * * k anyway . said , might well utilized * * turn tables n * * ers . said , way start lookin like havin many casualties , causalities side instead . killing black people , black lives matter , mother f * * kers got make matter . find mother f * * ker alone . snap ass , f * * * hang damn tree . take picture send mother f * * kers . need one example , people start watchin . turn tables * * , said . said start trickle - effect . said one white person hung flat - hanging , start trickle - effect . continued , black people good starting trends . said get upper - hand . another black man spoke saying needed kill cops killing us . first black male said , best method right . breitbart texas previously reported sunshine upset racist white people infiltrated disrupted one conference calls . subsequently released phone number one infiltrators . veteran immediately started receiving threatening calls . one # f * * * yoflag movement supporters allegedly told veteran infiltrated publicly posted conference call , going rape gut pregnant wife , f * * * ing piece sh * unborn creature hung tree . breitbart texas previously encountered sunshine sandra bland protest waller county jail texas , said white people killed . told journalists photographers , see nappy - ass hair head ? means one militant negroes . said protest redneck mother - f * * kers murdered sandra bland nappy hair like . # fyf911 black radicals say holding imperial powers actually responsible terrorist attacks september 11th accountable day , reported breitbart texas . several websites twitter handles movement . palmetto star describes one head organizers . said youtube video supporters burning symbols illusion superiority , false white supremacy , like american flag , british flag , police uniforms , ku klux klan hoods . sierra mcgrone nocturnus libertus posted , help young afrikan clean * * rag oppression . posted two photos , one appears , photo black man , wiping naked butts american flag . entire story : breitbart news'"
      ]
     },
     "execution_count": 4,
     "metadata": {},
     "output_type": "execute_result"
    }
   ],
   "source": [
    "X_text[0]"
   ]
  },
  {
   "cell_type": "code",
   "execution_count": null,
   "metadata": {},
   "outputs": [],
   "source": []
  },
  {
   "cell_type": "code",
   "execution_count": null,
   "metadata": {},
   "outputs": [],
   "source": []
  }
 ],
 "metadata": {
  "kernelspec": {
   "display_name": "base",
   "language": "python",
   "name": "python3"
  },
  "language_info": {
   "codemirror_mode": {
    "name": "ipython",
    "version": 3
   },
   "file_extension": ".py",
   "mimetype": "text/x-python",
   "name": "python",
   "nbconvert_exporter": "python",
   "pygments_lexer": "ipython3",
   "version": "3.7.3"
  },
  "orig_nbformat": 4,
  "vscode": {
   "interpreter": {
    "hash": "b9c0122414cf7471fe97933c64491468ad4d8de926d9956babb32565647a6cf8"
   }
  }
 },
 "nbformat": 4,
 "nbformat_minor": 2
}
