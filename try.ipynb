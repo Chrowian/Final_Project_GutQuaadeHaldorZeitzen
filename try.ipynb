{
 "cells": [
  {
   "cell_type": "code",
   "execution_count": 2,
   "metadata": {},
   "outputs": [
    {
     "name": "stderr",
     "output_type": "stream",
     "text": [
      "c:\\Users\\marcu\\Anaconda3\\lib\\site-packages\\numpy\\_distributor_init.py:32: UserWarning: loaded more than 1 DLL from .libs:\n",
      "c:\\Users\\marcu\\Anaconda3\\lib\\site-packages\\numpy\\.libs\\libopenblas.4SP5SUA7CBGXUEOC35YP2ASOICYYEQZZ.gfortran-win_amd64.dll\n",
      "c:\\Users\\marcu\\Anaconda3\\lib\\site-packages\\numpy\\.libs\\libopenblas.XWYDX2IKJW2NMTWSFYNGFUWKQU3LYTCZ.gfortran-win_amd64.dll\n",
      "  stacklevel=1)\n"
     ]
    }
   ],
   "source": [
    "#from wordstonumbers import sentence_to_integer_sequence\n",
    "import get_data as gd\n",
    "import wordstonumbers as wtn\n",
    "import torch\n",
    "device = \"cuda\" if torch.cuda.is_available() else \"cpu\""
   ]
  },
  {
   "cell_type": "code",
   "execution_count": 3,
   "metadata": {},
   "outputs": [
    {
     "name": "stdout",
     "output_type": "stream",
     "text": [
      "X shape:  (71576,)\n",
      "y shape:  (71576,)\n",
      "X shape:  (72095,)\n",
      "y shape:  (72095,)\n"
     ]
    }
   ],
   "source": [
    "#x = [' I like apples ' ' I love bananas ' ' I like bananas ']\n",
    "X_title, y = gd.get_title_data()\n",
    "X_text, y = gd.get_text_data()"
   ]
  },
  {
   "cell_type": "code",
   "execution_count": 4,
   "metadata": {},
   "outputs": [],
   "source": [
    "vocab = wtn.get_vocab(X_text)"
   ]
  },
  {
   "cell_type": "code",
   "execution_count": 7,
   "metadata": {},
   "outputs": [
    {
     "data": {
      "text/plain": [
       "'Were I healthy enough these days, I would be sipping a glass of free wine and running my hands over an exquisite accent pillow in an impossibly hip showroom called something like Space or Lust, while a sales assistant speaks to me of the virtues of aniline versus   leather. “So you really think   hardwood is worth the extra expense?” I’d be asking. And, “Does this come in a  ?” Instead, I’m propped in bed on a dozen pillows with my laptop, perusing online furniture stores: West Elm, Joybird, Crate  Barrel and something called Chairish. I am an internet   fiend. I take breaks only when the oxy overwhelms me and my head starts to loll. I cannot rest until I have considered every        sofa the worldwide web has to offer. I pore over design sites like Apartment Therapy, Design Sponge and Domino: searching, searching. Since John and I married 16 years ago, we have never had a real   couch. We’ve had plenty of   misfits: “as is” Ikea specials, parental handoffs, Craigslist   roadside rescues. First we were broke, and then we had babies. It never seemed like the right time to splurge on anything nice. And the misfits have been fine. We’re not fancy, and our taste is eclectic. Our house is full of objects that are stronger on personality than looks: the wood box my father and uncles sat on as children to lace their boots for sledding, a lumpy chaise by the front window in the world’s coziest reading nook. Anyway, whenever we have needed to get down to the serious business of life, we have always preferred to retreat to our bed: our war room, cocoon, escape hatch and, at times, dining room. But in the weeks after I learned that the breast cancer I have been in treatment for over the past year had spread to my bones  —   breaking my spine and becoming incurable and most likely fatal  —   finding the perfect   couch has begun to feel like the most important thing I’ve ever done. Except, just when I find one I love, it turns out I can’t click “buy now. ” And commitment issues have not generally been my problem. Houses, cars,            mastectomy: Bring it. Usually I just pick a   option and don’t look back. Within 10 minutes of meeting John at a summer job at 21, I had already mentally signed on for life  —   although I waited at least a week to tell him that. But the couch. I can’t do it. Maybe I’m holding off until after my next big oncology appointment, as though something my doctor may say will help determine whether I am willing to spend the extra money for Dacron batting and   cushions. She promised some new thoughts about treatment options: immunotherapy, clinical trials,   drugs, acupuncture, the dreaded “watchful waiting. ” It’s a complicated calculus. On the one hand, a basic   analysis: How much money do I want to spend on something I may not be around to really enjoy? On the other: Isn’t buying an expensive couch a kind of lovely expression of hopefulness? And after I’m gone, don’t I still want guests in my home to feel comfortable and stylish? None of this was supposed to happen. At 38, I wasn’t supposed to lie on my back in the E. R. on a late December morning and be told by a teary radiation oncology resident that the pain I’d been having for two months  —   that I’d been assured was from having a weak core after months of chemo  —   was actually from a tumor that had devoured my L2 vertebra. John wasn’t supposed to have to hold me up on the toilet. Put my pants on for me. Do Christmas Eve for the children without me. I’m not supposed to be thinking about where he will sit and hold my hand as I take my last breath. Despite all the pamphlets the social workers gave us when I was in the hospital, we don’t really know how to talk to our boys yet. They are 6 and 9. They know about the cancer and the back break, but they don’t really know what it all means. Instead I ask the    “What do you think of leather upholstery?” “Depends if it’s slippery or nuzzly,” he says. Excellent point. I think I need to take any bonded leather options  —   no matter how cute or economical they seem  —   off my favorites lists and go with  . The day after the emergency surgery, when my doctor was sitting on the end of my bed in the oncology ward, I saw her glance toward those pamphlets that had been left on the bedside table: “What to Tell Your Children About Your Progressive Disease. ” She’s a mother, too. Her children are only a couple of years older than mine. “Is it time to despair?” she said during a pause in our discussion about pain management and radiation, maybe reading one of the pamphlet headings. “No!” she proclaimed, staring straight at me. “No, it is not. ” I trust her completely, even after the chemo failed twice and the cancer spread when she said it wouldn’t. Whatever it is in oncologists that makes them want to be oncologists  —   that crazy mix of fierceness, optimism, arrogance and compassion  —   I get a contact high from it. It’s like love at first sight, or touching something on fire. It’s like making a choice and refusing to look back. John is mildly   averse, but he’s treading carefully. He knows me well enough to understand that when I’m dissertating on the merits of tufted cushions, I’m chewing on something else. “Custom upholstery, really? With two boys?” he asks, flipping through insurance statements on the counter. “O. K. well, I think you should get whatever you’re into. ” One big upside of being told I have incurable cancer is that after all these years, my husband has finally stopped smugly saying, “It’s your funeral,” when I make a decision he doesn’t agree with. “Did you spend thousands of dollars on the internet today?” he asks when he gets home from work and finds me with my pillows and   bottles on the   couch where he left me in the morning, a   rattan situation my parents bought as patio furniture in the early ’90s. “Not today,” I say. “Nice,” he says. “Do you want to go get in bed together and stare at the ceiling?” I do. We do. In January, the afternoon already looks like evening. “Can you believe we found out you have incurable cancer on, literally, the darkest day of the year?” John asks as we hold hands and stare up toward the same blank spot above our bed. “Yeah, I totally can,” I say. We both laugh. I have always loved the sound of him laughing: soft and comfortable, understated, offbeat, with unmistakably sleek midcentury lines. He takes me gingerly in his arms as if we are awkward teenagers. My back spasms, but I wiggle closer to him until I can put my head on his chest and hear his heart beating. Downstairs, the boys gaze at a screen on the old futon in the playroom. We will figure out what to do about them soon enough. They probably already know what’s up and are waiting for us to figure out how to say it. Despite not being much of a Christmas person myself, I hated not being able to watch them open presents and can’t bear the thought of never doing it again. Their very existence is the one dark piece I cannot get right with in all this. I can let go of a lot of things: plans, friends, career goals, places in the world I want to see, maybe even the love of my life. But I cannot figure out how to let go of mothering them. So maybe I don’t try to figure it out. Maybe I just aim to get the couch right: strong bones,   leather, something earthy and animal and real. A surface that knows something of what it was to be alive, that warms to our touch and cools in our absence. Also: an expansive bench that fits all of us. Something that will hold us through everything that lies ahead  —   the loving, collapsing and nuzzling. The dying, the grieving. I know my thoughts have probably diverged from whatever John is thinking about in the near dark of our bedroom. He is silent. Maybe he is dozing. Buying a sofa online, like many of life’s biggest decisions, takes research and trust, but mostly trust. As I lie here, with John’s chest rising and falling under my cheek, I realize that my careful calculations (How long do I have left? Who am I really buying this couch for? Am I getting a good deal?) are irrelevant. As in all things, I have to believe I’ll know what’s right when I see it. '"
      ]
     },
     "execution_count": 7,
     "metadata": {},
     "output_type": "execute_result"
    }
   ],
   "source": [
    "X_text[8011]\n"
   ]
  },
  {
   "cell_type": "code",
   "execution_count": 6,
   "metadata": {},
   "outputs": [
    {
     "data": {
      "text/plain": [
       "tensor([ 1499,   580,     1,  6017,     0, 15335])"
      ]
     },
     "execution_count": 6,
     "metadata": {},
     "output_type": "execute_result"
    }
   ],
   "source": [
    "wtn.sentence_to_integer_sequence(('please leave the reply To me!'), vocab)"
   ]
  },
  {
   "cell_type": "code",
   "execution_count": 10,
   "metadata": {},
   "outputs": [
    {
     "data": {
      "text/plain": [
       "tensor([[ 0.0000,  0.0000,  0.0000,  0.0000,  0.0000,  0.0000,  0.0000,  0.0000,\n",
       "          0.0000,  0.0000,  0.0000,  0.0000,  0.0000,  0.0000,  0.0000,  0.0000,\n",
       "          0.0000,  0.0000,  0.0000,  0.0000,  0.0000,  0.0000,  0.0000,  0.0000,\n",
       "          0.0000,  0.0000,  0.0000,  0.0000,  0.0000,  0.0000,  0.0000,  0.0000,\n",
       "          0.0000,  0.0000,  0.0000,  0.0000,  0.0000,  0.0000,  0.0000,  0.0000,\n",
       "          0.0000,  0.0000,  0.0000,  0.0000,  0.0000,  0.0000,  0.0000,  0.0000,\n",
       "          0.0000,  0.0000],\n",
       "        [-0.3979, -0.6432, -0.3064, -0.4270, -1.1377, -1.0699, -0.0792, -1.8778,\n",
       "         -0.8776,  0.4542, -0.2742,  1.4915, -0.1558, -1.2574,  1.2103,  0.1403,\n",
       "         -1.2791, -0.6659, -0.3804, -0.0948,  1.1487, -2.3083,  0.3579,  1.3198,\n",
       "         -0.1877,  0.6407, -0.9083, -1.5745,  0.5631, -1.5038,  0.6209, -1.2277,\n",
       "         -0.5952,  1.0898, -1.0424,  0.3003,  0.1014,  0.0820, -1.0471,  1.7861,\n",
       "          0.6705,  0.5497, -2.1323, -0.8741, -0.0915,  0.6812, -0.1660,  3.0050,\n",
       "         -0.4664,  1.2384],\n",
       "        [ 1.0964, -2.0936,  0.4234,  0.0456, -0.5653,  0.7164,  1.4325,  1.3014,\n",
       "          0.3424,  0.8076, -0.6957,  1.3085,  0.3741,  1.0071,  0.6134,  0.5666,\n",
       "          3.0721,  1.0090,  0.6443, -0.1601, -0.3182, -1.9650, -2.1399, -0.7598,\n",
       "          0.4671, -1.4713,  0.9680,  1.4068, -1.0333,  2.2445, -0.2276, -0.1719,\n",
       "         -1.3304,  1.3141,  0.9490,  1.2694, -0.8518,  1.7229,  0.4085, -0.1171,\n",
       "         -2.4649,  0.4111,  1.7130, -0.4043,  1.0838, -0.0732,  1.7800,  1.1937,\n",
       "          1.4725,  1.4625],\n",
       "        [-1.0310,  0.2096, -1.4939,  0.0822,  1.9631,  0.2822, -1.0458, -0.1242,\n",
       "          0.9979, -0.2254,  0.1634,  0.2199,  0.6068,  1.1058,  0.2824,  0.6978,\n",
       "         -1.3564, -1.1281,  1.1285,  1.4043,  0.9821, -0.3710,  0.7116,  1.3275,\n",
       "          0.6202, -1.3614, -0.1750,  0.5218,  0.4418,  1.2663,  0.1482, -1.8906,\n",
       "          0.7453, -0.9924,  0.6840, -0.6775, -0.1175, -0.3989, -1.0144,  1.2252,\n",
       "          2.3622, -0.8433,  1.5804, -0.5134, -1.3318, -0.3448,  1.1020,  1.0093,\n",
       "         -2.9113,  0.4565],\n",
       "        [ 0.0000,  0.0000,  0.0000,  0.0000,  0.0000,  0.0000,  0.0000,  0.0000,\n",
       "          0.0000,  0.0000,  0.0000,  0.0000,  0.0000,  0.0000,  0.0000,  0.0000,\n",
       "          0.0000,  0.0000,  0.0000,  0.0000,  0.0000,  0.0000,  0.0000,  0.0000,\n",
       "          0.0000,  0.0000,  0.0000,  0.0000,  0.0000,  0.0000,  0.0000,  0.0000,\n",
       "          0.0000,  0.0000,  0.0000,  0.0000,  0.0000,  0.0000,  0.0000,  0.0000,\n",
       "          0.0000,  0.0000,  0.0000,  0.0000,  0.0000,  0.0000,  0.0000,  0.0000,\n",
       "          0.0000,  0.0000],\n",
       "        [ 1.1454,  0.4464, -0.5753, -1.1669, -0.4597, -0.6550, -0.0071,  0.2203,\n",
       "         -0.8267,  0.1736,  0.1097, -1.1689,  2.8359, -1.9385,  0.5042, -1.0709,\n",
       "         -0.6972,  0.0809, -0.4425, -0.7346,  0.5521, -2.6435,  1.7097,  0.1442,\n",
       "          1.5782, -1.5942,  1.2130,  0.1009,  1.1935, -0.3317,  0.3713,  0.4170,\n",
       "          0.3972,  1.5353, -0.8752,  0.7492, -0.4918,  0.1445,  0.7648,  2.0210,\n",
       "          1.0883, -1.4747,  0.4282, -1.1666, -0.8611,  0.4553,  1.7530, -1.3839,\n",
       "          1.4076,  1.1528]], grad_fn=<EmbeddingBackward0>)"
      ]
     },
     "execution_count": 10,
     "metadata": {},
     "output_type": "execute_result"
    }
   ],
   "source": [
    "wtn.sentence_to_tensor(('Please leave the reply To me!'), vocab)"
   ]
  },
  {
   "cell_type": "code",
   "execution_count": 16,
   "metadata": {},
   "outputs": [
    {
     "data": {
      "text/plain": [
       "75000"
      ]
     },
     "execution_count": 16,
     "metadata": {},
     "output_type": "execute_result"
    }
   ],
   "source": [
    "len(dic)"
   ]
  },
  {
   "cell_type": "code",
   "execution_count": null,
   "metadata": {},
   "outputs": [],
   "source": []
  }
 ],
 "metadata": {
  "kernelspec": {
   "display_name": "base",
   "language": "python",
   "name": "python3"
  },
  "language_info": {
   "codemirror_mode": {
    "name": "ipython",
    "version": 3
   },
   "file_extension": ".py",
   "mimetype": "text/x-python",
   "name": "python",
   "nbconvert_exporter": "python",
   "pygments_lexer": "ipython3",
   "version": "3.7.3"
  },
  "orig_nbformat": 4
 },
 "nbformat": 4,
 "nbformat_minor": 2
}
