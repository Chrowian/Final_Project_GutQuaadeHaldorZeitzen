{
 "cells": [
  {
   "cell_type": "code",
   "execution_count": 7,
   "metadata": {
    "collapsed": true,
    "pycharm": {
     "name": "#%%\n"
    }
   },
   "outputs": [],
   "source": [
    "import numpy as np\n",
    "import pandas as pd\n",
    "import get_data"
   ]
  },
  {
   "cell_type": "code",
   "execution_count": 82,
   "outputs": [
    {
     "name": "stdout",
     "output_type": "stream",
     "text": [
      "X shape:  (70691, 2)\n",
      "y shape:  (70691,)\n"
     ]
    }
   ],
   "source": [
    "X, y = get_data.get_all_data()"
   ],
   "metadata": {
    "collapsed": false,
    "pycharm": {
     "name": "#%%\n"
    }
   }
  },
  {
   "cell_type": "code",
   "execution_count": 83,
   "outputs": [
    {
     "name": "stdout",
     "output_type": "stream",
     "text": [
      "avg title length: fake:  11.046756733598013 real:  13.427886771300448\n",
      "avg text length: fake:  575.7649881465825 real:  522.6766816143498\n",
      "http : real:  4451 , fake:  302\n",
      "Trump : real:  17120 , fake:  15542\n",
      "BREAKING : real:  1278 , fake:  20\n"
     ]
    }
   ],
   "source": [
    "test_strings = ['http', 'Trump', 'BREAKING', 'scandal', ]\n",
    "\n",
    "def flag_vocab(X, y, substrings):\n",
    "    # search of specific phrases - not currently used\n",
    "    substrings = substrings\n",
    "    bool_matrix = np.zeros((len(y), len(substrings)), dtype=int)\n",
    "\n",
    "    def search_substrings(row, index):\n",
    "        for j, substring in enumerate(substrings):\n",
    "            # print(row.name)\n",
    "            for column_name in X.columns:\n",
    "                if substring in row[column_name]:\n",
    "                # if substring in row['title'] or substring in row['text']:\n",
    "                    bool_matrix[index, j] = 1\n",
    "\n",
    "    # Apply the function to each row of the DataFrame\n",
    "    X.apply(lambda row: search_substrings(row, X.index.get_loc(row.name)), axis=1)\n",
    "\n",
    "    def count_words(text):\n",
    "        return len(text.split())\n",
    "\n",
    "    # Apply the function to count words in each string\n",
    "    X['word count text'] = X['text'].apply(lambda x: count_words(x))\n",
    "    X['word count title'] = X['title'].apply(lambda x: count_words(x))\n",
    "\n",
    "    result_df = pd.DataFrame(bool_matrix, columns=substrings, index=X.index)\n",
    "    merged_df = X.join(result_df)\n",
    "\n",
    "    return merged_df\n",
    "\n",
    "X_new = flag_vocab(X, y, test_strings)\n",
    "print('avg title length: real: ', X_new.loc[y == 1, 'word count title'].mean(), 'fake: ', X_new.loc[y == 0, 'word count title'].mean())\n",
    "print('avg text length: real: ', X_new.loc[y == 1, 'word count text'].mean(), 'fake: ', X_new.loc[y == 0, 'word count text'].mean())\n",
    "for string in test_strings:\n",
    "    print(string, ': real: ', (X_new[string] & y).sum(), ', fake: ', (X_new[string] & ~y).sum())\n"
   ],
   "metadata": {
    "collapsed": false,
    "pycharm": {
     "name": "#%%\n"
    }
   }
  },
  {
   "cell_type": "code",
   "execution_count": 72,
   "outputs": [
    {
     "data": {
      "text/plain": "                                                   title   \n0      LAW ENFORCEMENT ON HIGH ALERT Following Threat...  \\\n2      UNBELIEVABLE! OBAMA’S ATTORNEY GENERAL SAYS MO...   \n3      Bobby Jindal, raised Hindu, uses story of Chri...   \n4      SATAN 2: Russia unvelis an image of its terrif...   \n5      About Time! Christian Group Sues Amazon and SP...   \n...                                                  ...   \n72129  Russians steal research on Trump in hack of U....   \n72130  WATCH: Giuliani Demands That Democrats Apologi...   \n72131  Migrants Refuse To Leave Train At Refugee Camp...   \n72132  Trump tussle gives unpopular Mexican leader mu...   \n72133  Goldman Sachs Endorses Hillary Clinton For Pre...   \n\n                                                    text  word count text   \n0      No comment is expected from Barack Obama Membe...              871  \\\n2      Now, most of the demonstrators gathered last n...               34   \n3      A dozen politically active pastors came here f...             1291   \n4      The RS-28 Sarmat missile, dubbed Satan 2, will...              329   \n5      All we can say on this one is it s about time ...              244   \n...                                                  ...              ...   \n72129  WASHINGTON (Reuters) - Hackers believed to be ...              735   \n72130  You know, because in fantasyland Republicans n...              604   \n72131  Migrants Refuse To Leave Train At Refugee Camp...              466   \n72132  MEXICO CITY (Reuters) - Donald Trump’s combati...              559   \n72133  Goldman Sachs Endorses Hillary Clinton For Pre...              448   \n\n       word count title  http  Trump  BREAKING  \n0                    18     0      0         0  \n2                    18     0      0         0  \n3                    16     0      0         0  \n4                    16     0      0         0  \n5                    13     0      0         0  \n...                 ...   ...    ...       ...  \n72129                11     0      1         0  \n72130                10     0      1         0  \n72131                10     0      0         0  \n72132                10     0      1         0  \n72133                 7     0      0         0  \n\n[70691 rows x 7 columns]",
      "text/html": "<div>\n<style scoped>\n    .dataframe tbody tr th:only-of-type {\n        vertical-align: middle;\n    }\n\n    .dataframe tbody tr th {\n        vertical-align: top;\n    }\n\n    .dataframe thead th {\n        text-align: right;\n    }\n</style>\n<table border=\"1\" class=\"dataframe\">\n  <thead>\n    <tr style=\"text-align: right;\">\n      <th></th>\n      <th>title</th>\n      <th>text</th>\n      <th>word count text</th>\n      <th>word count title</th>\n      <th>http</th>\n      <th>Trump</th>\n      <th>BREAKING</th>\n    </tr>\n  </thead>\n  <tbody>\n    <tr>\n      <th>0</th>\n      <td>LAW ENFORCEMENT ON HIGH ALERT Following Threat...</td>\n      <td>No comment is expected from Barack Obama Membe...</td>\n      <td>871</td>\n      <td>18</td>\n      <td>0</td>\n      <td>0</td>\n      <td>0</td>\n    </tr>\n    <tr>\n      <th>2</th>\n      <td>UNBELIEVABLE! OBAMA’S ATTORNEY GENERAL SAYS MO...</td>\n      <td>Now, most of the demonstrators gathered last n...</td>\n      <td>34</td>\n      <td>18</td>\n      <td>0</td>\n      <td>0</td>\n      <td>0</td>\n    </tr>\n    <tr>\n      <th>3</th>\n      <td>Bobby Jindal, raised Hindu, uses story of Chri...</td>\n      <td>A dozen politically active pastors came here f...</td>\n      <td>1291</td>\n      <td>16</td>\n      <td>0</td>\n      <td>0</td>\n      <td>0</td>\n    </tr>\n    <tr>\n      <th>4</th>\n      <td>SATAN 2: Russia unvelis an image of its terrif...</td>\n      <td>The RS-28 Sarmat missile, dubbed Satan 2, will...</td>\n      <td>329</td>\n      <td>16</td>\n      <td>0</td>\n      <td>0</td>\n      <td>0</td>\n    </tr>\n    <tr>\n      <th>5</th>\n      <td>About Time! Christian Group Sues Amazon and SP...</td>\n      <td>All we can say on this one is it s about time ...</td>\n      <td>244</td>\n      <td>13</td>\n      <td>0</td>\n      <td>0</td>\n      <td>0</td>\n    </tr>\n    <tr>\n      <th>...</th>\n      <td>...</td>\n      <td>...</td>\n      <td>...</td>\n      <td>...</td>\n      <td>...</td>\n      <td>...</td>\n      <td>...</td>\n    </tr>\n    <tr>\n      <th>72129</th>\n      <td>Russians steal research on Trump in hack of U....</td>\n      <td>WASHINGTON (Reuters) - Hackers believed to be ...</td>\n      <td>735</td>\n      <td>11</td>\n      <td>0</td>\n      <td>1</td>\n      <td>0</td>\n    </tr>\n    <tr>\n      <th>72130</th>\n      <td>WATCH: Giuliani Demands That Democrats Apologi...</td>\n      <td>You know, because in fantasyland Republicans n...</td>\n      <td>604</td>\n      <td>10</td>\n      <td>0</td>\n      <td>1</td>\n      <td>0</td>\n    </tr>\n    <tr>\n      <th>72131</th>\n      <td>Migrants Refuse To Leave Train At Refugee Camp...</td>\n      <td>Migrants Refuse To Leave Train At Refugee Camp...</td>\n      <td>466</td>\n      <td>10</td>\n      <td>0</td>\n      <td>0</td>\n      <td>0</td>\n    </tr>\n    <tr>\n      <th>72132</th>\n      <td>Trump tussle gives unpopular Mexican leader mu...</td>\n      <td>MEXICO CITY (Reuters) - Donald Trump’s combati...</td>\n      <td>559</td>\n      <td>10</td>\n      <td>0</td>\n      <td>1</td>\n      <td>0</td>\n    </tr>\n    <tr>\n      <th>72133</th>\n      <td>Goldman Sachs Endorses Hillary Clinton For Pre...</td>\n      <td>Goldman Sachs Endorses Hillary Clinton For Pre...</td>\n      <td>448</td>\n      <td>7</td>\n      <td>0</td>\n      <td>0</td>\n      <td>0</td>\n    </tr>\n  </tbody>\n</table>\n<p>70691 rows × 7 columns</p>\n</div>"
     },
     "execution_count": 72,
     "metadata": {},
     "output_type": "execute_result"
    }
   ],
   "source": [
    "X_new"
   ],
   "metadata": {
    "collapsed": false,
    "pycharm": {
     "name": "#%%\n"
    }
   }
  },
  {
   "cell_type": "code",
   "execution_count": 68,
   "outputs": [
    {
     "name": "stdout",
     "output_type": "stream",
     "text": [
      "17120 15542\n",
      "1278 20\n"
     ]
    }
   ],
   "source": [
    "real_trump = (X_new['Trump'] & y).sum()\n",
    "fake_trump = (X_new['Trump'] & ~y).sum()\n",
    "real_breaking = (X_new['BREAKING'] & y).sum()\n",
    "fake_breaking = (X_new['BREAKING'] & ~y).sum()\n",
    "\n",
    "print(real_trump, fake_trump)\n",
    "print(real_breaking, fake_breaking)"
   ],
   "metadata": {
    "collapsed": false,
    "pycharm": {
     "name": "#%%\n"
    }
   }
  },
  {
   "cell_type": "code",
   "execution_count": 85,
   "outputs": [
    {
     "data": {
      "text/plain": "0"
     },
     "execution_count": 85,
     "metadata": {},
     "output_type": "execute_result"
    }
   ],
   "source": [
    "X_new.isnull().sum().sum()"
   ],
   "metadata": {
    "collapsed": false,
    "pycharm": {
     "name": "#%%\n"
    }
   }
  }
 ],
 "metadata": {
  "kernelspec": {
   "display_name": "Python 3",
   "language": "python",
   "name": "python3"
  },
  "language_info": {
   "codemirror_mode": {
    "name": "ipython",
    "version": 2
   },
   "file_extension": ".py",
   "mimetype": "text/x-python",
   "name": "python",
   "nbconvert_exporter": "python",
   "pygments_lexer": "ipython2",
   "version": "2.7.6"
  }
 },
 "nbformat": 4,
 "nbformat_minor": 0
}