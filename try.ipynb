{
 "cells": [
  {
   "cell_type": "code",
   "execution_count": 1,
   "metadata": {},
   "outputs": [
    {
     "name": "stderr",
     "output_type": "stream",
     "text": [
      "c:\\Users\\marcu\\Anaconda3\\lib\\site-packages\\numpy\\_distributor_init.py:32: UserWarning: loaded more than 1 DLL from .libs:\n",
      "c:\\Users\\marcu\\Anaconda3\\lib\\site-packages\\numpy\\.libs\\libopenblas.4SP5SUA7CBGXUEOC35YP2ASOICYYEQZZ.gfortran-win_amd64.dll\n",
      "c:\\Users\\marcu\\Anaconda3\\lib\\site-packages\\numpy\\.libs\\libopenblas.XWYDX2IKJW2NMTWSFYNGFUWKQU3LYTCZ.gfortran-win_amd64.dll\n",
      "  stacklevel=1)\n"
     ]
    }
   ],
   "source": [
    "#from wordstonumbers import sentence_to_integer_sequence\n",
    "import get_data as gd\n",
    "import wordstonumbers as wtn\n",
    "import torch\n",
    "device = \"cuda\" if torch.cuda.is_available() else \"cpu\"\n",
    "import preprocessing_space as ps\n",
    "import lowercasetext as lct"
   ]
  },
  {
   "cell_type": "code",
   "execution_count": 2,
   "metadata": {},
   "outputs": [
    {
     "name": "stdout",
     "output_type": "stream",
     "text": [
      "X shape:  (72095,)\n",
      "y shape:  (72095,)\n"
     ]
    }
   ],
   "source": [
    "#x = [' I like apples ' ' I love bananas ' ' I like bananas ']\n",
    "#X_title, y = gd.get_title_data()\n",
    "X_text, y = gd.get_text_data()"
   ]
  },
  {
   "cell_type": "code",
   "execution_count": 4,
   "metadata": {},
   "outputs": [],
   "source": [
    "X_textlower = lct.Lowercase(X_text)\n",
    "X_text = ps.preprocess_space(X_textlower)\n",
    "vocab_d = wtn.get_vocab(X_text)"
   ]
  },
  {
   "cell_type": "code",
   "execution_count": 5,
   "metadata": {},
   "outputs": [
    {
     "data": {
      "text/plain": [
       "tensor([1386,  357,    4,  178,  131,  565,   70,    3,    2,    0])"
      ]
     },
     "execution_count": 5,
     "metadata": {},
     "output_type": "execute_result"
    }
   ],
   "source": [
    "wtn.sentence_to_integer_sequence(('please # to me ! * ? , . papilutjo'), vocab_d)"
   ]
  },
  {
   "cell_type": "code",
   "execution_count": 6,
   "metadata": {},
   "outputs": [
    {
     "data": {
      "text/plain": [
       "tensor([[ 0.0838,  0.7692, -0.2126, -1.0290, -0.3600, -1.5314,  1.8838,  0.0383,\n",
       "          1.6500,  0.2061,  0.1871, -0.1458, -1.6938,  0.2857,  0.0308,  0.4716,\n",
       "          1.6179,  0.8145, -1.9159,  0.8930,  0.2309,  1.4471, -1.0643,  0.2687,\n",
       "         -0.1079, -0.8623,  0.2981,  1.2132, -0.9955,  1.0716,  0.6285,  0.2574,\n",
       "          0.8567, -1.1787, -0.2445,  0.4787,  0.7917, -1.4510,  0.9045,  0.3183,\n",
       "          0.8704,  0.5440,  1.3705,  0.2197, -0.4991,  0.9324, -0.9470,  0.1638,\n",
       "          0.6910,  0.7746],\n",
       "        [-0.3254,  0.8270, -0.5168,  1.7916,  1.3383,  0.3001,  0.6675, -0.8044,\n",
       "         -1.0741,  0.0115,  2.1413, -0.1143, -1.1642, -0.0840, -1.3095,  1.1460,\n",
       "          1.0109, -0.3266,  1.1215, -0.7515, -0.0874, -0.8862,  0.1906, -0.7466,\n",
       "          0.2448,  0.8232,  0.0290,  1.2180, -0.8814,  0.5097, -0.9508, -0.4970,\n",
       "          0.1453,  0.7564, -0.6335,  1.3156,  0.5945, -0.1144, -1.7527,  0.4163,\n",
       "         -0.7054, -0.0626,  0.2931,  1.0050,  1.0705, -0.7209, -0.5551,  0.3133,\n",
       "          1.4556, -1.3749],\n",
       "        [ 0.0674, -0.0321, -1.1435,  0.1521,  0.1820,  0.2825, -0.0098, -0.9160,\n",
       "          0.3584, -1.4929, -1.1651, -1.4761,  0.3910, -1.5935, -0.0582,  0.1652,\n",
       "          0.0238,  0.7417, -1.3094, -0.8600, -0.6834, -0.0683, -1.0225,  0.2730,\n",
       "          0.4779,  0.7558, -1.1104,  0.8769, -1.5573,  0.3357,  1.0947, -0.6270,\n",
       "          0.7008, -0.2199,  1.2419,  2.6190,  1.5726, -1.4232, -0.9987,  0.8261,\n",
       "         -1.0232, -0.0899,  0.5441, -0.1951,  0.1808,  0.4197,  0.2488, -1.0955,\n",
       "         -0.5748, -0.7117],\n",
       "        [ 0.6115,  1.8694,  0.7909, -1.2679,  0.8553,  0.1772, -0.6316,  0.2020,\n",
       "         -1.4957,  1.2132, -0.3739,  1.1965,  0.7745,  0.1705,  1.1078,  1.0225,\n",
       "         -0.2199,  0.3067, -0.5684, -0.9701,  0.5173,  0.6917,  0.6751,  0.7201,\n",
       "          0.4404,  0.3408,  0.5080, -1.8250, -0.8173, -0.0341,  0.4874, -2.4214,\n",
       "         -0.2848,  0.5885, -0.6946,  0.2718,  0.3838, -0.3812, -2.1088,  0.9729,\n",
       "         -1.2528,  0.5686, -0.3359, -0.0292,  0.6195,  0.9526,  0.7419, -2.7448,\n",
       "          2.6674,  0.9429]], grad_fn=<EmbeddingBackward0>)"
      ]
     },
     "execution_count": 6,
     "metadata": {},
     "output_type": "execute_result"
    }
   ],
   "source": [
    "wtn.sentence_to_tensor(('please ! the me'), vocab_d)"
   ]
  },
  {
   "cell_type": "code",
   "execution_count": 7,
   "metadata": {},
   "outputs": [
    {
     "data": {
      "text/plain": [
       "40001"
      ]
     },
     "execution_count": 7,
     "metadata": {},
     "output_type": "execute_result"
    }
   ],
   "source": [
    "len(list(vocab_d))"
   ]
  },
  {
   "cell_type": "code",
   "execution_count": 8,
   "metadata": {},
   "outputs": [
    {
     "data": {
      "text/plain": [
       "['tribalism',\n",
       " 'goal”',\n",
       " 'meanings',\n",
       " 'rapert',\n",
       " 'rapefugees',\n",
       " 'means”',\n",
       " 'mecklenburg',\n",
       " 'meconium',\n",
       " 'meekly',\n",
       " 'trickery',\n",
       " '‘did',\n",
       " 'ralston',\n",
       " 'amendment’s',\n",
       " 'amendment”',\n",
       " 'medicine”',\n",
       " 'build\\xading',\n",
       " 'triller',\n",
       " 'din’t',\n",
       " 'trillo',\n",
       " 'gmd',\n",
       " 'medios',\n",
       " 'rakurs',\n",
       " 'raking',\n",
       " 'rakhines',\n",
       " 'diné',\n",
       " 'deb',\n",
       " '‘descended',\n",
       " 'raked',\n",
       " 'mediterranee',\n",
       " 'mediums']"
      ]
     },
     "execution_count": 8,
     "metadata": {},
     "output_type": "execute_result"
    }
   ],
   "source": [
    "list(vocab_d)[-30:]"
   ]
  },
  {
   "cell_type": "code",
   "execution_count": null,
   "metadata": {},
   "outputs": [],
   "source": []
  }
 ],
 "metadata": {
  "kernelspec": {
   "display_name": "base",
   "language": "python",
   "name": "python3"
  },
  "language_info": {
   "codemirror_mode": {
    "name": "ipython",
    "version": 3
   },
   "file_extension": ".py",
   "mimetype": "text/x-python",
   "name": "python",
   "nbconvert_exporter": "python",
   "pygments_lexer": "ipython3",
   "version": "3.10.8 | packaged by conda-forge | (main, Nov 22 2022, 08:25:13) [Clang 14.0.6 ]"
  },
  "orig_nbformat": 4,
  "vscode": {
   "interpreter": {
    "hash": "b9c0122414cf7471fe97933c64491468ad4d8de926d9956babb32565647a6cf8"
   }
  }
 },
 "nbformat": 4,
 "nbformat_minor": 2
}
