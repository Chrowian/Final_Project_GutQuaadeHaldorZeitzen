{
 "cells": [
  {
   "cell_type": "code",
   "execution_count": 7,
   "metadata": {},
   "outputs": [],
   "source": [
    "#from wordstonumbers import sentence_to_integer_sequence\n",
    "import get_data as gd\n",
    "import wordstonumbers as wtn\n",
    "from wordstonumbers import sentence_to_integer_sequence\n",
    "from wordstonumbers import sentence_to_tensor\n",
    "import torch\n",
    "device = \"cuda\" if torch.cuda.is_available() else \"cpu\"\n",
    "import preprocessing_space as ps\n",
    "import lowercasetext as lct"
   ]
  },
  {
   "cell_type": "code",
   "execution_count": 2,
   "metadata": {},
   "outputs": [
    {
     "name": "stdout",
     "output_type": "stream",
     "text": [
      "X shape:  (70691,)\n",
      "y shape:  (70691,)\n"
     ]
    }
   ],
   "source": [
    "#x = [' I like apples ' ' I love bananas ' ' I like bananas ']\n",
    "#X_title, y = gd.get_title_data()\n",
    "X_text, y = gd.get_text_data()"
   ]
  },
  {
   "cell_type": "code",
   "execution_count": 3,
   "metadata": {},
   "outputs": [],
   "source": [
    "X_textlower = lct.Lowercase(X_text)\n",
    "X_text = ps.preprocess_space(X_textlower)\n",
    "X_text = ps.remove_stopwords(X_text)\n",
    "vocab_d = wtn.get_vocab(X_text)"
   ]
  },
  {
   "cell_type": "code",
   "execution_count": null,
   "metadata": {},
   "outputs": [],
   "source": []
  },
  {
   "cell_type": "code",
   "execution_count": null,
   "metadata": {},
   "outputs": [],
   "source": []
  }
 ],
 "metadata": {
  "kernelspec": {
   "display_name": "base",
   "language": "python",
   "name": "python3"
  },
  "language_info": {
   "codemirror_mode": {
    "name": "ipython",
    "version": 3
   },
   "file_extension": ".py",
   "mimetype": "text/x-python",
   "name": "python",
   "nbconvert_exporter": "python",
   "pygments_lexer": "ipython3",
   "version": "3.7.3"
  },
  "orig_nbformat": 4,
  "vscode": {
   "interpreter": {
    "hash": "b9c0122414cf7471fe97933c64491468ad4d8de926d9956babb32565647a6cf8"
   }
  }
 },
 "nbformat": 4,
 "nbformat_minor": 2
}
